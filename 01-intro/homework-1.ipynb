{
 "cells": [
  {
   "cell_type": "markdown",
   "id": "6b6bf44d",
   "metadata": {},
   "source": [
    "# Q1. Pandas version\n",
    "What version of Pandas did you install?"
   ]
  },
  {
   "cell_type": "code",
   "execution_count": 84,
   "id": "2c75d4b9",
   "metadata": {},
   "outputs": [
    {
     "data": {
      "text/plain": [
       "'2.1.3'"
      ]
     },
     "execution_count": 84,
     "metadata": {},
     "output_type": "execute_result"
    }
   ],
   "source": [
    "import pandas as pd\n",
    "import numpy as np\n",
    "pd.__version__"
   ]
  },
  {
   "cell_type": "markdown",
   "id": "84fe4c0c",
   "metadata": {},
   "source": [
    "# Q2. Records count\n",
    "How many records are in the dataset?"
   ]
  },
  {
   "cell_type": "code",
   "execution_count": 107,
   "id": "a7902f42",
   "metadata": {},
   "outputs": [
    {
     "data": {
      "text/plain": [
       "RangeIndex(start=0, stop=9704, step=1)"
      ]
     },
     "execution_count": 107,
     "metadata": {},
     "output_type": "execute_result"
    }
   ],
   "source": [
    "df = pd.read_csv('car_fuel_efficiency.csv')\n",
    "df.index"
   ]
  },
  {
   "cell_type": "markdown",
   "id": "c25542a8",
   "metadata": {},
   "source": [
    "# Q3. Fuel types\n",
    "How many fuel types are presented in the dataset?"
   ]
  },
  {
   "cell_type": "code",
   "execution_count": 66,
   "id": "59fe6610",
   "metadata": {},
   "outputs": [
    {
     "data": {
      "text/plain": [
       "2"
      ]
     },
     "execution_count": 66,
     "metadata": {},
     "output_type": "execute_result"
    }
   ],
   "source": [
    "df['fuel_type'].nunique()"
   ]
  },
  {
   "cell_type": "markdown",
   "id": "f2a3d81c",
   "metadata": {},
   "source": [
    "# Q4. Missing values\n",
    "How many columns in the dataset have missing values?"
   ]
  },
  {
   "cell_type": "code",
   "execution_count": 70,
   "id": "9da8d529",
   "metadata": {},
   "outputs": [
    {
     "name": "stdout",
     "output_type": "stream",
     "text": [
      "4\n"
     ]
    }
   ],
   "source": [
    "num_columns_with_missing_values = df.isnull().any().sum()\n",
    "print(num_columns_with_missing_values)"
   ]
  },
  {
   "cell_type": "markdown",
   "id": "bdf69353",
   "metadata": {},
   "source": [
    "# Q5. Max fuel efficiency\n",
    "What's the maximum fuel efficiency of cars from Asia?"
   ]
  },
  {
   "cell_type": "code",
   "execution_count": 71,
   "id": "9c414ab4",
   "metadata": {},
   "outputs": [
    {
     "name": "stdout",
     "output_type": "stream",
     "text": [
      "Maximum fuel efficiency of cars from Asia: 23.76\n"
     ]
    }
   ],
   "source": [
    "max_efficiency = df[df['origin'] == 'Asia']['fuel_efficiency_mpg'].max().round(2)\n",
    "print(\"Maximum fuel efficiency of cars from Asia:\", max_efficiency)\n"
   ]
  },
  {
   "cell_type": "markdown",
   "id": "10e48c8e",
   "metadata": {},
   "source": [
    "# Q6. Median value of horsepower\n",
    "1. Find the median value of the horsepower column in the dataset.\n",
    "2. Next, calculate the most frequent value of the same horsepower column.\n",
    "3. Use the fillna method to fill the missing values in the horsepower column with the most frequent value from the previous step.\n",
    "4. Now, calculate the median value of horsepower once again."
   ]
  },
  {
   "cell_type": "code",
   "execution_count": 72,
   "id": "873e02eb",
   "metadata": {},
   "outputs": [
    {
     "name": "stdout",
     "output_type": "stream",
     "text": [
      "Median: 149.0\n",
      "Mode: 152.0\n",
      "      engine_displacement  num_cylinders  horsepower  vehicle_weight  \\\n",
      "0                     170            3.0       159.0     3413.433759   \n",
      "1                     130            5.0        97.0     3149.664934   \n",
      "2                     170            NaN        78.0     3079.038997   \n",
      "3                     220            4.0       152.0     2542.392402   \n",
      "4                     210            1.0       140.0     3460.870990   \n",
      "...                   ...            ...         ...             ...   \n",
      "9699                  140            5.0       164.0     2981.107371   \n",
      "9700                  180            NaN       154.0     2439.525729   \n",
      "9701                  220            2.0       138.0     2583.471318   \n",
      "9702                  230            4.0       177.0     2905.527390   \n",
      "9703                  270            3.0       140.0     2908.043477   \n",
      "\n",
      "      acceleration  model_year  origin fuel_type         drivetrain  \\\n",
      "0             17.7        2003  Europe  Gasoline    All-wheel drive   \n",
      "1             17.8        2007     USA  Gasoline  Front-wheel drive   \n",
      "2             15.1        2018  Europe  Gasoline  Front-wheel drive   \n",
      "3             20.2        2009     USA    Diesel    All-wheel drive   \n",
      "4             14.4        2009  Europe  Gasoline    All-wheel drive   \n",
      "...            ...         ...     ...       ...                ...   \n",
      "9699          17.3        2013  Europe    Diesel  Front-wheel drive   \n",
      "9700          15.0        2004     USA  Gasoline    All-wheel drive   \n",
      "9701          15.1        2008     USA    Diesel    All-wheel drive   \n",
      "9702          19.4        2011     USA    Diesel  Front-wheel drive   \n",
      "9703          14.7        2005    Asia    Diesel    All-wheel drive   \n",
      "\n",
      "      num_doors  fuel_efficiency_mpg  \n",
      "0           0.0            13.231729  \n",
      "1           0.0            13.688217  \n",
      "2           0.0            14.246341  \n",
      "3           2.0            16.912736  \n",
      "4           2.0            12.488369  \n",
      "...         ...                  ...  \n",
      "9699        NaN            15.101802  \n",
      "9700        0.0            17.962326  \n",
      "9701       -1.0            17.186587  \n",
      "9702        1.0            15.331551  \n",
      "9703       -1.0            14.884467  \n",
      "\n",
      "[9704 rows x 11 columns]\n"
     ]
    }
   ],
   "source": [
    "median = df['horsepower'].median()\n",
    "print(\"Median:\", median)\n",
    "mode = df['horsepower'].mode()[0]\n",
    "print(\"Mode:\", mode)\n",
    "df['horsepower'].fillna(mode,inplace=True)\n",
    "print(df)\n"
   ]
  },
  {
   "cell_type": "code",
   "execution_count": 73,
   "id": "a2e25dc4",
   "metadata": {},
   "outputs": [
    {
     "name": "stdout",
     "output_type": "stream",
     "text": [
      "Median: 152.0\n"
     ]
    }
   ],
   "source": [
    "median = df['horsepower'].median()\n",
    "print(\"Median:\", median)"
   ]
  },
  {
   "cell_type": "markdown",
   "id": "926b4e9f",
   "metadata": {},
   "source": [
    "# Q7. Sum of weights\n",
    "1. Select all the cars from Asia\n",
    "2. Select only columns vehicle_weight and model_year\n",
    "3. Select the first 7 values\n",
    "4. Get the underlying NumPy array. Let's call it X.\n",
    "5. Compute matrix-matrix multiplication between the transpose of X and X. To get the transpose, use X.T. Let's call the result XTX.\n",
    "6. Invert XTX.\n",
    "7. Create an array y with values [1100, 1300, 800, 900, 1000, 1100, 1200].\n",
    "8. Multiply the inverse of XTX with the transpose of X, and then multiply the result by y. Call the result w.\n",
    "9. What's the sum of all the elements of the result?"
   ]
  },
  {
   "cell_type": "code",
   "execution_count": 108,
   "id": "f35ba574",
   "metadata": {},
   "outputs": [
    {
     "name": "stdout",
     "output_type": "stream",
     "text": [
      "XTX:  [[62248334.33150762 41431216.5073268 ]\n",
      " [41431216.5073268  28373339.        ]]\n",
      "XTX_inv:  [[ 5.71497081e-07 -8.34509443e-07]\n",
      " [-8.34509443e-07  1.25380877e-06]]\n",
      "W:  [0.01386421 0.5049067 ]\n",
      "0.5187709081074016\n"
     ]
    }
   ],
   "source": [
    "asia_cars = df[df['origin'] == 'Asia']\n",
    "\n",
    "X = asia_cars[['vehicle_weight', 'model_year']].head(7).to_numpy()\n",
    "\n",
    "XTX = X.T @ X\n",
    "print(\"XTX: \", XTX)\n",
    "\n",
    "XTX_inv = np.linalg.inv(XTX)\n",
    "print(\"XTX_inv: \", XTX_inv)\n",
    "\n",
    "y = np.array([1100, 1300, 800, 900, 1000, 1100, 1200])\n",
    "\n",
    "w = (XTX_inv @ X.T) @ y\n",
    "print(\"W: \", w)\n",
    "\n",
    "result_sum = w.sum()\n",
    "\n",
    "print(result_sum)"
   ]
  }
 ],
 "metadata": {
  "kernelspec": {
   "display_name": "Python 3",
   "language": "python",
   "name": "python3"
  },
  "language_info": {
   "codemirror_mode": {
    "name": "ipython",
    "version": 3
   },
   "file_extension": ".py",
   "mimetype": "text/x-python",
   "name": "python",
   "nbconvert_exporter": "python",
   "pygments_lexer": "ipython3",
   "version": "3.11.4"
  }
 },
 "nbformat": 4,
 "nbformat_minor": 5
}
